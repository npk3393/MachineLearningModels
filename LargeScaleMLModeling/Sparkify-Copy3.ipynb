{
 "cells": [
  {
   "cell_type": "markdown",
   "metadata": {},
   "source": [
    "# Sparkify Project Workspace\n",
    "This workspace contains a tiny subset (128MB) of the full dataset available (12GB). Feel free to use this workspace to build your project, or to explore a smaller subset with Spark before deploying your cluster on the cloud. Instructions for setting up your Spark cluster is included in the last lesson of the Extracurricular Spark Course content.\n",
    "\n",
    "You can follow the steps below to guide your data analysis and model building portion of this project."
   ]
  },
  {
   "cell_type": "code",
   "execution_count": 1,
   "metadata": {},
   "outputs": [],
   "source": [
    "# import libraries\n",
    "from pyspark.sql import SparkSession\n",
    "from pyspark.sql.types import StringType, IntegerType\n",
    "from pyspark.sql.functions import sum as Fsum\n",
    "from pyspark.sql.functions import * \n",
    "# isnan, count, when, col, desc, udf, col, sort_array, asc, avg\n",
    "from pyspark.ml import Pipeline\n",
    "from pyspark.ml.classification import LogisticRegression, DecisionTreeClassifier, RandomForestClassifier\n",
    "from pyspark.ml.evaluation import MulticlassClassificationEvaluator\n",
    "from pyspark.ml.feature import * \n",
    "from pyspark.ml.regression import LinearRegression\n",
    "from pyspark.ml.tuning import *\n",
    "\n",
    "import datetime\n",
    "\n",
    "import numpy as np\n",
    "import pandas as pd\n",
    "%matplotlib inline\n",
    "import matplotlib.pyplot as plt"
   ]
  },
  {
   "cell_type": "code",
   "execution_count": 2,
   "metadata": {},
   "outputs": [],
   "source": [
    "def horizontalbar(x,y,chartcolor,xlabel,ylabel,title):\n",
    "    \"\"\"\n",
    "    Reusable horizontal bar chart, with options for chart color, label and title baked in.\n",
    "    This needs matplotlib and refers to it as plt\n",
    "    please have this import - import matplotlib as plt\n",
    "    \"\"\"\n",
    "    plt.style.use('ggplot')\n",
    "    fig,ax = plt.subplots()\n",
    "    y_pos = np.arange(len(y))\n",
    "    ax.barh(y_pos,y,color=chartcolor)\n",
    "    ax.set_yticks(y_pos)\n",
    "    ax.set_yticklabels(x)\n",
    "    plt.xlabel(xlabel)\n",
    "    plt.ylabel(ylabel)\n",
    "    plt.title(title)\n",
    "    for i, v in enumerate(y):\n",
    "        ax.text(v + 50, i + .0015, str(v), color='black', fontweight='bold')\n",
    "    plt.show()"
   ]
  },
  {
   "cell_type": "code",
   "execution_count": 3,
   "metadata": {},
   "outputs": [],
   "source": [
    "# create a Spark session\n",
    "spark = SparkSession \\\n",
    "    .builder \\\n",
    "    .appName(\"CapstoneProject\") \\\n",
    "    .getOrCreate()"
   ]
  },
  {
   "cell_type": "code",
   "execution_count": 4,
   "metadata": {},
   "outputs": [
    {
     "data": {
      "text/plain": [
       "[('spark.driver.port', '44345'),\n",
       " ('spark.app.name', 'CapstoneProject'),\n",
       " ('spark.rdd.compress', 'True'),\n",
       " ('spark.serializer.objectStreamReset', '100'),\n",
       " ('spark.master', 'local[*]'),\n",
       " ('spark.app.id', 'local-1606258178558'),\n",
       " ('spark.executor.id', 'driver'),\n",
       " ('spark.submit.deployMode', 'client'),\n",
       " ('spark.ui.showConsoleProgress', 'true'),\n",
       " ('spark.driver.host', 'ed8bfe059e08')]"
      ]
     },
     "execution_count": 4,
     "metadata": {},
     "output_type": "execute_result"
    }
   ],
   "source": [
    "# Get configuration\n",
    "spark.sparkContext.getConf().getAll()"
   ]
  },
  {
   "cell_type": "code",
   "execution_count": 5,
   "metadata": {},
   "outputs": [
    {
     "data": {
      "text/html": [
       "\n",
       "            <div>\n",
       "                <p><b>SparkSession - in-memory</b></p>\n",
       "                \n",
       "        <div>\n",
       "            <p><b>SparkContext</b></p>\n",
       "\n",
       "            <p><a href=\"http://ed8bfe059e08:4040\">Spark UI</a></p>\n",
       "\n",
       "            <dl>\n",
       "              <dt>Version</dt>\n",
       "                <dd><code>v2.4.3</code></dd>\n",
       "              <dt>Master</dt>\n",
       "                <dd><code>local[*]</code></dd>\n",
       "              <dt>AppName</dt>\n",
       "                <dd><code>CapstoneProject</code></dd>\n",
       "            </dl>\n",
       "        </div>\n",
       "        \n",
       "            </div>\n",
       "        "
      ],
      "text/plain": [
       "<pyspark.sql.session.SparkSession at 0x7ff68b9875f8>"
      ]
     },
     "execution_count": 5,
     "metadata": {},
     "output_type": "execute_result"
    }
   ],
   "source": [
    "spark"
   ]
  },
  {
   "cell_type": "markdown",
   "metadata": {},
   "source": [
    "# Project Overview\n",
    "\n",
    "This project seeks to perform data analysis on Sparkify Data Set, to identify the churning patterns and behaviours using Spark and PySpark. \n",
    "\n",
    "## Problem Domain \n",
    "\n",
    "Internet app based customer churing analysis\n",
    "\n",
    "## Problem Statement\n",
    "\n",
    "The online music streaming service provider, \"Sparkify\" facing a problem on losing it is paid subscribers and in this project we are looking to develop machine leanring models by following CRISP-DM process\n",
    "\n",
    "## Metrics Employed\n",
    "\n",
    "We will pursue accuracy score and F1 score for our machine learning models as a evaluation metric. We want to identify those who are likely to drop out from the subscription service and potentially offer them incentives (which are out of scope for this project) to retain the subscriber and would like to minimize the number of incentive offers sent at the same time maximizing the revenue by sending incentives to right subscriber (which is out of scope for this project)."
   ]
  },
  {
   "cell_type": "markdown",
   "metadata": {},
   "source": [
    "# Load and Clean Dataset\n",
    "In this workspace, the mini-dataset file is `mini_sparkify_event_data.json`. Load and clean the dataset, checking for invalid or missing data - for example, records without userids or sessionids. "
   ]
  },
  {
   "cell_type": "code",
   "execution_count": 4,
   "metadata": {},
   "outputs": [],
   "source": [
    "path = \"mini_sparkify_event_data.json\"\n",
    "sparkify = spark.read.json(path)"
   ]
  },
  {
   "cell_type": "code",
   "execution_count": 7,
   "metadata": {},
   "outputs": [
    {
     "name": "stdout",
     "output_type": "stream",
     "text": [
      "root\n",
      " |-- artist: string (nullable = true)\n",
      " |-- auth: string (nullable = true)\n",
      " |-- firstName: string (nullable = true)\n",
      " |-- gender: string (nullable = true)\n",
      " |-- itemInSession: long (nullable = true)\n",
      " |-- lastName: string (nullable = true)\n",
      " |-- length: double (nullable = true)\n",
      " |-- level: string (nullable = true)\n",
      " |-- location: string (nullable = true)\n",
      " |-- method: string (nullable = true)\n",
      " |-- page: string (nullable = true)\n",
      " |-- registration: long (nullable = true)\n",
      " |-- sessionId: long (nullable = true)\n",
      " |-- song: string (nullable = true)\n",
      " |-- status: long (nullable = true)\n",
      " |-- ts: long (nullable = true)\n",
      " |-- userAgent: string (nullable = true)\n",
      " |-- userId: string (nullable = true)\n",
      "\n"
     ]
    }
   ],
   "source": [
    "sparkify.printSchema()"
   ]
  },
  {
   "cell_type": "markdown",
   "metadata": {},
   "source": [
    "### Data Exploration"
   ]
  },
  {
   "cell_type": "code",
   "execution_count": 5,
   "metadata": {},
   "outputs": [
    {
     "name": "stdout",
     "output_type": "stream",
     "text": [
      "+-------+----------+\n",
      "|summary|      auth|\n",
      "+-------+----------+\n",
      "|  count|    286500|\n",
      "|   mean|      null|\n",
      "| stddev|      null|\n",
      "|    min| Cancelled|\n",
      "|    max|Logged Out|\n",
      "+-------+----------+\n",
      "\n"
     ]
    }
   ],
   "source": [
    "sparkify.describe(\"auth\").show()"
   ]
  },
  {
   "cell_type": "code",
   "execution_count": 9,
   "metadata": {},
   "outputs": [
    {
     "name": "stdout",
     "output_type": "stream",
     "text": [
      "+-------+-----------------+\n",
      "|summary|        sessionId|\n",
      "+-------+-----------------+\n",
      "|  count|           286500|\n",
      "|   mean|1041.526554973822|\n",
      "| stddev|726.7762634630741|\n",
      "|    min|                1|\n",
      "|    max|             2474|\n",
      "+-------+-----------------+\n",
      "\n"
     ]
    }
   ],
   "source": [
    "sparkify.describe(\"sessionId\").show()"
   ]
  },
  {
   "cell_type": "code",
   "execution_count": 10,
   "metadata": {},
   "outputs": [
    {
     "name": "stdout",
     "output_type": "stream",
     "text": [
      "+--------------------+\n",
      "|                page|\n",
      "+--------------------+\n",
      "|               About|\n",
      "|          Add Friend|\n",
      "|     Add to Playlist|\n",
      "|              Cancel|\n",
      "|Cancellation Conf...|\n",
      "|           Downgrade|\n",
      "|               Error|\n",
      "|                Help|\n",
      "|                Home|\n",
      "|               Login|\n",
      "|              Logout|\n",
      "|            NextSong|\n",
      "|            Register|\n",
      "|         Roll Advert|\n",
      "|       Save Settings|\n",
      "|            Settings|\n",
      "|    Submit Downgrade|\n",
      "| Submit Registration|\n",
      "|      Submit Upgrade|\n",
      "|         Thumbs Down|\n",
      "+--------------------+\n",
      "only showing top 20 rows\n",
      "\n"
     ]
    }
   ],
   "source": [
    "sparkify.select(\"page\").dropDuplicates().sort(\"page\").show()"
   ]
  },
  {
   "cell_type": "markdown",
   "metadata": {},
   "source": [
    "### Data Preprocessing \n",
    "Drop Rows with Missing Values"
   ]
  },
  {
   "cell_type": "code",
   "execution_count": 5,
   "metadata": {},
   "outputs": [],
   "source": [
    "df_valid = sparkify.dropna(how = \"any\", subset = [\"userId\", \"sessionId\"])"
   ]
  },
  {
   "cell_type": "code",
   "execution_count": 6,
   "metadata": {},
   "outputs": [],
   "source": [
    "df_valid = df_valid.filter(df_valid[\"userId\"] != \"\")"
   ]
  },
  {
   "cell_type": "code",
   "execution_count": 7,
   "metadata": {},
   "outputs": [],
   "source": [
    "df_valid = df_valid.sort([\"userId\",\"ts\",\"sessionId\"]).withColumn(\"pk\",monotonically_increasing_id())"
   ]
  },
  {
   "cell_type": "code",
   "execution_count": 24,
   "metadata": {},
   "outputs": [
    {
     "data": {
      "text/plain": [
       "278154"
      ]
     },
     "execution_count": 24,
     "metadata": {},
     "output_type": "execute_result"
    }
   ],
   "source": [
    "# Count the total number of rows\n",
    "df_valid.count()"
   ]
  },
  {
   "cell_type": "code",
   "execution_count": 10,
   "metadata": {},
   "outputs": [],
   "source": [
    "# Calculate number of missing values for each column - suprisingly there are none\n",
    "\n",
    "#sparkify.select([count(when(isnan(c), c)).alias(c) for c in sparkify.columns]).show()"
   ]
  },
  {
   "cell_type": "code",
   "execution_count": null,
   "metadata": {},
   "outputs": [],
   "source": [
    "# to create data cleaning and pre-processing, I am looking to use SparkSQL to perform the analysis"
   ]
  },
  {
   "cell_type": "code",
   "execution_count": 8,
   "metadata": {},
   "outputs": [],
   "source": [
    "sparkify.createOrReplaceTempView(\"sparkifytable\")"
   ]
  },
  {
   "cell_type": "code",
   "execution_count": null,
   "metadata": {},
   "outputs": [],
   "source": [
    "# Counting the missing values in each column in not as simple as one would expect in PySpark"
   ]
  },
  {
   "cell_type": "code",
   "execution_count": 12,
   "metadata": {},
   "outputs": [
    {
     "name": "stdout",
     "output_type": "stream",
     "text": [
      "artist [Row(artist_missing=58392)]\n",
      "auth [Row(auth_missing=None)]\n",
      "firstName [Row(firstName_missing=8346)]\n",
      "gender [Row(gender_missing=8346)]\n",
      "itemInSession [Row(itemInSession_missing=None)]\n",
      "lastName [Row(lastName_missing=8346)]\n",
      "length [Row(length_missing=58392)]\n",
      "level [Row(level_missing=None)]\n",
      "location [Row(location_missing=8346)]\n",
      "method [Row(method_missing=None)]\n",
      "page [Row(page_missing=None)]\n",
      "registration [Row(registration_missing=8346)]\n",
      "sessionId [Row(sessionId_missing=None)]\n",
      "song [Row(song_missing=58392)]\n",
      "status [Row(status_missing=None)]\n",
      "ts [Row(ts_missing=None)]\n",
      "userAgent [Row(userAgent_missing=8346)]\n",
      "userId [Row(userId_missing=None)]\n"
     ]
    }
   ],
   "source": [
    "#spark.sql(\"select sum(case when artist is null then 1 else 0 end) as artistnull from sparkifytable \\\n",
    "#                where artist is null\").collect()\n",
    "\n",
    "columnlist = sparkify.columns\n",
    "\n",
    "for i in columnlist:\n",
    "    a = spark.sql(\"select sum(case when {} is null then 1 else 0 end) as {}_missing from sparkifytable \\\n",
    "                where {} is null\".format(i,i,i)).collect()\n",
    "    print(i,a)"
   ]
  },
  {
   "cell_type": "markdown",
   "metadata": {},
   "source": [
    "As we see from the above table, there are 8,346 rows that contains no user information - no first name, last name, gender, registration, location and userAgent. These rows are not going to be helpful when performing churn analysis and we can discard these."
   ]
  },
  {
   "cell_type": "markdown",
   "metadata": {},
   "source": [
    "# Exploratory Data Analysis\n",
    "When you're working with the full dataset, perform EDA by loading a small subset of the data and doing basic manipulations within Spark. In this workspace, you are already provided a small subset of data you can explore.\n",
    "\n",
    "### Define Churn\n",
    "\n",
    "Once you've done some preliminary analysis, create a column `Churn` to use as the label for your model. I suggest using the `Cancellation Confirmation` events to define your churn, which happen for both paid and free users. As a bonus task, you can also look into the `Downgrade` events.\n",
    "\n",
    "### Explore Data\n",
    "Once you've defined churn, perform some exploratory data analysis to observe the behavior for users who stayed vs users who churned. You can start by exploring aggregates on these two groups of users, observing how much of a specific action they experienced per a certain time unit or number of songs played."
   ]
  },
  {
   "cell_type": "markdown",
   "metadata": {},
   "source": [
    "### Data Vizualization\n",
    "Let us have a detailed look at the categorical variables"
   ]
  },
  {
   "cell_type": "code",
   "execution_count": 15,
   "metadata": {},
   "outputs": [
    {
     "name": "stdout",
     "output_type": "stream",
     "text": [
      "+-----+--------+\n",
      "|level|count(1)|\n",
      "+-----+--------+\n",
      "| free|   58338|\n",
      "| paid|  228162|\n",
      "+-----+--------+\n",
      "\n"
     ]
    }
   ],
   "source": [
    "usertype = spark.sql(\"Select level, count(*) from sparkifytable group by level\").show()\n",
    "usertype"
   ]
  },
  {
   "cell_type": "code",
   "execution_count": 16,
   "metadata": {},
   "outputs": [
    {
     "data": {
      "image/png": "[encoded data removed]",
      "text/plain": [
       "<matplotlib.figure.Figure at 0x7ff672623e48>"
      ]
     },
     "metadata": {},
     "output_type": "display_data"
    }
   ],
   "source": [
    "horizontalbar(\n",
    "    x=['FREE','PAID'], \n",
    "    y=[58338, 228162],\n",
    "    chartcolor='yellow',\n",
    "    xlabel='Type of Subscribers', \n",
    "    ylabel='Total Number of Subscribers',\n",
    "    title='Sparkify Subscription Data')"
   ]
  },
  {
   "cell_type": "code",
   "execution_count": 17,
   "metadata": {},
   "outputs": [],
   "source": [
    "location = sparkify.groupBy(\"location\").count().toPandas().sort_values(by=\"count\", ascending=False)[\"location\"].head(16).tolist()\n",
    "count = sparkify.groupBy(\"location\").count().toPandas().sort_values(by=\"count\", ascending=False)[\"count\"].head(16).tolist()"
   ]
  },
  {
   "cell_type": "code",
   "execution_count": 18,
   "metadata": {},
   "outputs": [
    {
     "data": {
      "text/plain": [
       "8346"
      ]
     },
     "execution_count": 18,
     "metadata": {},
     "output_type": "execute_result"
    }
   ],
   "source": [
    "location.pop(4)\n",
    "count.pop(4)"
   ]
  },
  {
   "cell_type": "code",
   "execution_count": 19,
   "metadata": {},
   "outputs": [
    {
     "data": {
      "image/png": "[encoded data removed]",
      "text/plain": [
       "<matplotlib.figure.Figure at 0x7ff67bf48048>"
      ]
     },
     "metadata": {},
     "output_type": "display_data"
    }
   ],
   "source": [
    "horizontalbar(\n",
    "    x=location, \n",
    "    y=count,\n",
    "    chartcolor='orange',\n",
    "    xlabel='Location', \n",
    "    ylabel='Total Number of Subscribers',\n",
    "    title='Sparkify Location/Subscription Data')"
   ]
  },
  {
   "cell_type": "markdown",
   "metadata": {},
   "source": [
    "Some analysis on authentication and page actions needed to be counted for each unique users as aggregating on duplication might be misleading."
   ]
  },
  {
   "cell_type": "code",
   "execution_count": 20,
   "metadata": {},
   "outputs": [
    {
     "name": "stdout",
     "output_type": "stream",
     "text": [
      "+----------+----------------------+\n",
      "|      auth|count(DISTINCT userId)|\n",
      "+----------+----------------------+\n",
      "|Logged Out|                     1|\n",
      "| Cancelled|                    52|\n",
      "|     Guest|                     1|\n",
      "| Logged In|                   225|\n",
      "+----------+----------------------+\n",
      "\n"
     ]
    }
   ],
   "source": [
    "sparkify.groupBy(\"auth\").agg(countDistinct(\"userId\")).show()"
   ]
  },
  {
   "cell_type": "code",
   "execution_count": 19,
   "metadata": {},
   "outputs": [
    {
     "name": "stdout",
     "output_type": "stream",
     "text": [
      "+----------------------+\n",
      "|count(DISTINCT UserId)|\n",
      "+----------------------+\n",
      "|                   226|\n",
      "+----------------------+\n",
      "\n"
     ]
    }
   ],
   "source": [
    "sparkify.agg(countDistinct(\"UserId\")).show()"
   ]
  },
  {
   "cell_type": "markdown",
   "metadata": {},
   "source": [
    "Our sample dataset has 226 users, out of which 52 have cancelled their subscription."
   ]
  },
  {
   "cell_type": "code",
   "execution_count": 20,
   "metadata": {},
   "outputs": [
    {
     "data": {
      "text/plain": [
       "23.01"
      ]
     },
     "execution_count": 20,
     "metadata": {},
     "output_type": "execute_result"
    }
   ],
   "source": [
    "round(52/226*100,2)"
   ]
  },
  {
   "cell_type": "markdown",
   "metadata": {},
   "source": [
    "Current churn rate is 23.01%"
   ]
  },
  {
   "cell_type": "code",
   "execution_count": 21,
   "metadata": {},
   "outputs": [
    {
     "data": {
      "text/html": [
       "<div>\n",
       "<style scoped>\n",
       "    .dataframe tbody tr th:only-of-type {\n",
       "        vertical-align: middle;\n",
       "    }\n",
       "\n",
       "    .dataframe tbody tr th {\n",
       "        vertical-align: top;\n",
       "    }\n",
       "\n",
       "    .dataframe thead th {\n",
       "        text-align: right;\n",
       "    }\n",
       "</style>\n",
       "<table border=\"1\" class=\"dataframe\">\n",
       "  <thead>\n",
       "    <tr style=\"text-align: right;\">\n",
       "      <th></th>\n",
       "      <th>page</th>\n",
       "      <th>count(DISTINCT UserId)</th>\n",
       "    </tr>\n",
       "  </thead>\n",
       "  <tbody>\n",
       "    <tr>\n",
       "      <th>0</th>\n",
       "      <td>Cancel</td>\n",
       "      <td>52</td>\n",
       "    </tr>\n",
       "    <tr>\n",
       "      <th>1</th>\n",
       "      <td>Submit Downgrade</td>\n",
       "      <td>49</td>\n",
       "    </tr>\n",
       "    <tr>\n",
       "      <th>2</th>\n",
       "      <td>Thumbs Down</td>\n",
       "      <td>203</td>\n",
       "    </tr>\n",
       "    <tr>\n",
       "      <th>3</th>\n",
       "      <td>Home</td>\n",
       "      <td>224</td>\n",
       "    </tr>\n",
       "    <tr>\n",
       "      <th>4</th>\n",
       "      <td>Downgrade</td>\n",
       "      <td>154</td>\n",
       "    </tr>\n",
       "    <tr>\n",
       "      <th>5</th>\n",
       "      <td>Roll Advert</td>\n",
       "      <td>207</td>\n",
       "    </tr>\n",
       "    <tr>\n",
       "      <th>6</th>\n",
       "      <td>Logout</td>\n",
       "      <td>213</td>\n",
       "    </tr>\n",
       "    <tr>\n",
       "      <th>7</th>\n",
       "      <td>Save Settings</td>\n",
       "      <td>132</td>\n",
       "    </tr>\n",
       "    <tr>\n",
       "      <th>8</th>\n",
       "      <td>Cancellation Confirmation</td>\n",
       "      <td>52</td>\n",
       "    </tr>\n",
       "    <tr>\n",
       "      <th>9</th>\n",
       "      <td>About</td>\n",
       "      <td>156</td>\n",
       "    </tr>\n",
       "    <tr>\n",
       "      <th>10</th>\n",
       "      <td>Submit Registration</td>\n",
       "      <td>1</td>\n",
       "    </tr>\n",
       "    <tr>\n",
       "      <th>11</th>\n",
       "      <td>Settings</td>\n",
       "      <td>195</td>\n",
       "    </tr>\n",
       "    <tr>\n",
       "      <th>12</th>\n",
       "      <td>Login</td>\n",
       "      <td>1</td>\n",
       "    </tr>\n",
       "    <tr>\n",
       "      <th>13</th>\n",
       "      <td>Register</td>\n",
       "      <td>1</td>\n",
       "    </tr>\n",
       "    <tr>\n",
       "      <th>14</th>\n",
       "      <td>Add to Playlist</td>\n",
       "      <td>215</td>\n",
       "    </tr>\n",
       "    <tr>\n",
       "      <th>15</th>\n",
       "      <td>Add Friend</td>\n",
       "      <td>206</td>\n",
       "    </tr>\n",
       "    <tr>\n",
       "      <th>16</th>\n",
       "      <td>NextSong</td>\n",
       "      <td>225</td>\n",
       "    </tr>\n",
       "    <tr>\n",
       "      <th>17</th>\n",
       "      <td>Thumbs Up</td>\n",
       "      <td>220</td>\n",
       "    </tr>\n",
       "    <tr>\n",
       "      <th>18</th>\n",
       "      <td>Help</td>\n",
       "      <td>193</td>\n",
       "    </tr>\n",
       "    <tr>\n",
       "      <th>19</th>\n",
       "      <td>Upgrade</td>\n",
       "      <td>168</td>\n",
       "    </tr>\n",
       "    <tr>\n",
       "      <th>20</th>\n",
       "      <td>Error</td>\n",
       "      <td>118</td>\n",
       "    </tr>\n",
       "    <tr>\n",
       "      <th>21</th>\n",
       "      <td>Submit Upgrade</td>\n",
       "      <td>131</td>\n",
       "    </tr>\n",
       "  </tbody>\n",
       "</table>\n",
       "</div>"
      ],
      "text/plain": [
       "                         page  count(DISTINCT UserId)\n",
       "0                      Cancel                      52\n",
       "1            Submit Downgrade                      49\n",
       "2                 Thumbs Down                     203\n",
       "3                        Home                     224\n",
       "4                   Downgrade                     154\n",
       "5                 Roll Advert                     207\n",
       "6                      Logout                     213\n",
       "7               Save Settings                     132\n",
       "8   Cancellation Confirmation                      52\n",
       "9                       About                     156\n",
       "10        Submit Registration                       1\n",
       "11                   Settings                     195\n",
       "12                      Login                       1\n",
       "13                   Register                       1\n",
       "14            Add to Playlist                     215\n",
       "15                 Add Friend                     206\n",
       "16                   NextSong                     225\n",
       "17                  Thumbs Up                     220\n",
       "18                       Help                     193\n",
       "19                    Upgrade                     168\n",
       "20                      Error                     118\n",
       "21             Submit Upgrade                     131"
      ]
     },
     "execution_count": 21,
     "metadata": {},
     "output_type": "execute_result"
    }
   ],
   "source": [
    "sparkify.groupBy(\"page\").agg(countDistinct(\"UserId\")).toPandas()"
   ]
  },
  {
   "cell_type": "markdown",
   "metadata": {},
   "source": [
    "As we see from above, there is a lot of activities going on here, in addition to cancellation confirmation, which is our key variable to determine churning rate. Some key activites that may help us iddentify the pattern of behavior are, downgrade, upgrade, next song, add to playlist, add to friend, thumbsdown, thumbs up, etc... \n",
    "\n",
    "We will look more closely to look at these behaviours based on churned or retained subscribers, here on"
   ]
  },
  {
   "cell_type": "code",
   "execution_count": 22,
   "metadata": {},
   "outputs": [
    {
     "name": "stdout",
     "output_type": "stream",
     "text": [
      "+------+----------------------+\n",
      "|gender|count(DISTINCT UserId)|\n",
      "+------+----------------------+\n",
      "|     F|                   104|\n",
      "|  null|                     1|\n",
      "|     M|                   121|\n",
      "+------+----------------------+\n",
      "\n"
     ]
    }
   ],
   "source": [
    "sparkify.groupBy(\"gender\").agg(countDistinct(\"UserId\")).show()"
   ]
  },
  {
   "cell_type": "code",
   "execution_count": 9,
   "metadata": {},
   "outputs": [],
   "source": [
    "churnUserId = df_valid.filter(df_valid.page == \"Cancellation Confirmation\").select('UserId').distinct().toPandas()\n",
    "churnUserId = churnUserId.UserId.tolist()\n",
    "df_valid = df_valid.withColumn('ChurnedUser', when(df_valid.userId.isin(churnUserId),1).otherwise(0))"
   ]
  },
  {
   "cell_type": "code",
   "execution_count": 31,
   "metadata": {},
   "outputs": [
    {
     "name": "stdout",
     "output_type": "stream",
     "text": [
      "root\n",
      " |-- artist: string (nullable = true)\n",
      " |-- auth: string (nullable = true)\n",
      " |-- firstName: string (nullable = true)\n",
      " |-- gender: string (nullable = true)\n",
      " |-- itemInSession: long (nullable = true)\n",
      " |-- lastName: string (nullable = true)\n",
      " |-- length: double (nullable = true)\n",
      " |-- level: string (nullable = true)\n",
      " |-- location: string (nullable = true)\n",
      " |-- method: string (nullable = true)\n",
      " |-- page: string (nullable = true)\n",
      " |-- registration: long (nullable = true)\n",
      " |-- sessionId: long (nullable = true)\n",
      " |-- song: string (nullable = true)\n",
      " |-- status: long (nullable = true)\n",
      " |-- ts: long (nullable = true)\n",
      " |-- userAgent: string (nullable = true)\n",
      " |-- userId: string (nullable = true)\n",
      " |-- pk: long (nullable = false)\n",
      " |-- ChurnedUser: integer (nullable = false)\n",
      "\n"
     ]
    }
   ],
   "source": [
    "df_valid.printSchema()"
   ]
  },
  {
   "cell_type": "code",
   "execution_count": 11,
   "metadata": {},
   "outputs": [],
   "source": [
    "# transform the data to each user\n",
    "df_userview = df_valid.groupby([\"userId\"]).pivot(\"page\").count().fillna(0)\n",
    "df_userview = df_userview.toPandas()"
   ]
  },
  {
   "cell_type": "code",
   "execution_count": 33,
   "metadata": {},
   "outputs": [
    {
     "data": {
      "image/png": "[encoded data removed]",
      "text/plain": [
       "<matplotlib.figure.Figure at 0x7ff680f499e8>"
      ]
     },
     "metadata": {},
     "output_type": "display_data"
    }
   ],
   "source": [
    "# create box and whisker plot against churn variable -- cancellation confirmation\n",
    "fig = plt.figure(figsize=(20,20))\n",
    "for i in range(1,len(df_userview.columns)):\n",
    "    df_userview.boxplot(df_userview.columns[i],\n",
    "                             ax=fig.add_subplot(6,4,i),\n",
    "                             by=\"Cancellation Confirmation\")"
   ]
  },
  {
   "cell_type": "markdown",
   "metadata": {},
   "source": [
    "### Exploratory Data Analysis Conclusion\n",
    "\n",
    "As we see above, in the box and whisker plots, subscribers who leave the sparkify service, tend to participate less in \"add to playlist\" event -- they do not seem to add as many songs in a playlist when compared to the ones who remain as loyal subscriber to sparkify service.\n",
    "Subscribers who leave this service also tend to add less friends when compared to ones who remain as loyal subscribers.\n",
    "Subscribers who leave this service are less likely tend to click to go to next songs when compared to subscribers who continue to be a loyal subscriber.\n",
    "Subscribers who leave this service tend to upgrade more than compared to subscribers who remain as loyal subscribers to sparkify streaming service.\n",
    "Similar patterns are also seem to be prevalent in thumbs up and thumbs down category espescially in thumbs up event."
   ]
  },
  {
   "cell_type": "markdown",
   "metadata": {},
   "source": [
    "# Feature Engineering\n",
    "Once you've familiarized yourself with the data, build out the features you find promising to train your model on. To work with the full dataset, you can follow the following steps.\n",
    "- Write a script to extract the necessary features from the smaller subset of data\n",
    "- Ensure that your script is scalable, using the best practices discussed in Lesson 3\n",
    "- Try your script on the full data set, debugging your script if necessary\n",
    "\n",
    "If you are working in the classroom workspace, you can just extract features based on the small subset of data contained here. Be sure to transfer over this work to the larger dataset when you work on your Spark cluster."
   ]
  },
  {
   "cell_type": "markdown",
   "metadata": {},
   "source": [
    "### Data Preprocessing and Model Implementation \n",
    "From our EDA, we would like to consider, length of songs played, average length of played songs, number of days active for all subscribers during free and paid levels of subscription, total number of sessions"
   ]
  },
  {
   "cell_type": "code",
   "execution_count": 11,
   "metadata": {},
   "outputs": [],
   "source": [
    "# total length of the song\n",
    "songlength = df_valid.where(df_valid.song != 'null').groupby('userId') \\\n",
    ".agg({'length':'sum'}) \\\n",
    ".orderBy('userId') \\\n",
    ".withColumnRenamed(\"sum(length)\", \"songlength\")"
   ]
  },
  {
   "cell_type": "code",
   "execution_count": 12,
   "metadata": {},
   "outputs": [],
   "source": [
    "# average length of the song\n",
    "songlengthavg = df_valid.where(df_valid.song != 'null').groupby('userId') \\\n",
    ".agg({'length':'avg'}) \\\n",
    ".orderBy('userId') \\\n",
    ".withColumnRenamed(\"avg(length)\", \"songlengthavg\")"
   ]
  },
  {
   "cell_type": "code",
   "execution_count": 13,
   "metadata": {},
   "outputs": [],
   "source": [
    "# number of songs\n",
    "songcount = df_valid.where(df_valid.song != 'null').groupby('userId') \\\n",
    ".agg({'song':'count'}) \\\n",
    ".orderBy('userId') \\\n",
    ".withColumnRenamed(\"count(song)\", \"songcount\")"
   ]
  },
  {
   "cell_type": "code",
   "execution_count": 14,
   "metadata": {},
   "outputs": [],
   "source": [
    "# number of sessions\n",
    "numsessions = df_valid.select(['userId','sessionId']) \\\n",
    ".distinct() \\\n",
    ".groupby('userId') \\\n",
    ".count() \\\n",
    ".orderBy('userId') \\\n",
    ".withColumnRenamed('count','numsessions')"
   ]
  },
  {
   "cell_type": "code",
   "execution_count": 15,
   "metadata": {},
   "outputs": [],
   "source": [
    "# Add friend event\n",
    "friends = df_valid.where(df_valid.page == \"Add Friend\") \\\n",
    ".groupby('userId').agg({'page':'count'})\\\n",
    ".orderBy('userId')\\\n",
    ".withColumnRenamed(\"count(page)\",\"friendcount\")\n",
    "friends = friends.replace(float('nan'), None)"
   ]
  },
  {
   "cell_type": "code",
   "execution_count": 16,
   "metadata": {},
   "outputs": [],
   "source": [
    "# Add Playlist event\n",
    "playlist = df_valid.where(df_valid.page == \"Add to Playlist\") \\\n",
    ".groupby('userId').agg({'page':'count'})\\\n",
    ".orderBy('userId')\\\n",
    ".withColumnRenamed(\"count(page)\",\"addtoplaylist\")"
   ]
  },
  {
   "cell_type": "code",
   "execution_count": 17,
   "metadata": {},
   "outputs": [],
   "source": [
    "# churn data\n",
    "label = df_valid.groupby('userId').agg({'ChurnedUser':'first'}).orderBy('userId')\\\n",
    ".withColumnRenamed('first(ChurnedUser)','label')"
   ]
  },
  {
   "cell_type": "code",
   "execution_count": 18,
   "metadata": {},
   "outputs": [],
   "source": [
    "# number of days active for users\n",
    "time = 60*60*24*1000\n",
    "min_ts = df_valid.select(['userId','ts']).groupby('userId').min('ts')\n",
    "max_ts = df_valid.select(['userId','ts']).groupby('userId').max('ts')\n",
    "days_active = min_ts.join(max_ts,on='userId')\n",
    "days_active = days_active.withColumn('days_active',(col('max(ts)')-col('min(ts)'))/time)\n",
    "days_active = days_active.select(['userId','days_active']).orderBy('userId')"
   ]
  },
  {
   "cell_type": "code",
   "execution_count": 157,
   "metadata": {},
   "outputs": [],
   "source": [
    "# average length of song played\n",
    "#nextsong = sparkify.filter(sparkify.page == 'NextSong')\n",
    "#songlength = nextsong.groupby(nextsong.userId).agg(Fsum(nextsong.length)).collect()"
   ]
  },
  {
   "cell_type": "markdown",
   "metadata": {},
   "source": []
  },
  {
   "cell_type": "markdown",
   "metadata": {},
   "source": [
    "# Machine Learning Modeling\n",
    "Split the full dataset into train, test, and validation sets. Test out several of the machine learning methods you learned. Evaluate the accuracy of the various models, tuning parameters as necessary. Determine your winning model based on test accuracy and report results on the validation set. Since the churned users are a fairly small subset, I suggest using F1 score as the metric to optimize."
   ]
  },
  {
   "cell_type": "code",
   "execution_count": 19,
   "metadata": {},
   "outputs": [],
   "source": [
    "modelfile = (songcount\n",
    "             .join(days_active, 'userId','full')\n",
    "             .join(friends, 'userId', 'full')\n",
    "             .join(numsessions, 'userId','full')\n",
    "             .join(playlist, 'userId','full')\n",
    "             .join(label,'userId','full'))\n",
    "modelfile = modelfile.fillna({'friendcount':0})\n",
    "modelfile = modelfile.fillna({'addtoplaylist':0})"
   ]
  },
  {
   "cell_type": "code",
   "execution_count": 49,
   "metadata": {},
   "outputs": [
    {
     "data": {
      "text/html": [
       "<div>\n",
       "<style scoped>\n",
       "    .dataframe tbody tr th:only-of-type {\n",
       "        vertical-align: middle;\n",
       "    }\n",
       "\n",
       "    .dataframe tbody tr th {\n",
       "        vertical-align: top;\n",
       "    }\n",
       "\n",
       "    .dataframe thead th {\n",
       "        text-align: right;\n",
       "    }\n",
       "</style>\n",
       "<table border=\"1\" class=\"dataframe\">\n",
       "  <thead>\n",
       "    <tr style=\"text-align: right;\">\n",
       "      <th></th>\n",
       "      <th>userId</th>\n",
       "      <th>songcount</th>\n",
       "      <th>days_active</th>\n",
       "      <th>friendcount</th>\n",
       "      <th>numsessions</th>\n",
       "      <th>addtoplaylist</th>\n",
       "      <th>label</th>\n",
       "    </tr>\n",
       "  </thead>\n",
       "  <tbody>\n",
       "    <tr>\n",
       "      <th>0</th>\n",
       "      <td>100010</td>\n",
       "      <td>275</td>\n",
       "      <td>44.217801</td>\n",
       "      <td>4</td>\n",
       "      <td>7</td>\n",
       "      <td>7</td>\n",
       "      <td>0</td>\n",
       "    </tr>\n",
       "    <tr>\n",
       "      <th>1</th>\n",
       "      <td>200002</td>\n",
       "      <td>387</td>\n",
       "      <td>45.496806</td>\n",
       "      <td>4</td>\n",
       "      <td>6</td>\n",
       "      <td>8</td>\n",
       "      <td>0</td>\n",
       "    </tr>\n",
       "    <tr>\n",
       "      <th>2</th>\n",
       "      <td>125</td>\n",
       "      <td>8</td>\n",
       "      <td>0.020532</td>\n",
       "      <td>0</td>\n",
       "      <td>1</td>\n",
       "      <td>0</td>\n",
       "      <td>1</td>\n",
       "    </tr>\n",
       "    <tr>\n",
       "      <th>3</th>\n",
       "      <td>124</td>\n",
       "      <td>4079</td>\n",
       "      <td>59.996944</td>\n",
       "      <td>74</td>\n",
       "      <td>29</td>\n",
       "      <td>118</td>\n",
       "      <td>0</td>\n",
       "    </tr>\n",
       "    <tr>\n",
       "      <th>4</th>\n",
       "      <td>51</td>\n",
       "      <td>2111</td>\n",
       "      <td>15.779398</td>\n",
       "      <td>28</td>\n",
       "      <td>10</td>\n",
       "      <td>52</td>\n",
       "      <td>1</td>\n",
       "    </tr>\n",
       "    <tr>\n",
       "      <th>5</th>\n",
       "      <td>7</td>\n",
       "      <td>150</td>\n",
       "      <td>50.784051</td>\n",
       "      <td>1</td>\n",
       "      <td>7</td>\n",
       "      <td>5</td>\n",
       "      <td>0</td>\n",
       "    </tr>\n",
       "    <tr>\n",
       "      <th>6</th>\n",
       "      <td>15</td>\n",
       "      <td>1914</td>\n",
       "      <td>54.773183</td>\n",
       "      <td>31</td>\n",
       "      <td>15</td>\n",
       "      <td>59</td>\n",
       "      <td>0</td>\n",
       "    </tr>\n",
       "    <tr>\n",
       "      <th>7</th>\n",
       "      <td>54</td>\n",
       "      <td>2841</td>\n",
       "      <td>42.797199</td>\n",
       "      <td>33</td>\n",
       "      <td>37</td>\n",
       "      <td>72</td>\n",
       "      <td>1</td>\n",
       "    </tr>\n",
       "    <tr>\n",
       "      <th>8</th>\n",
       "      <td>155</td>\n",
       "      <td>820</td>\n",
       "      <td>25.827836</td>\n",
       "      <td>11</td>\n",
       "      <td>6</td>\n",
       "      <td>24</td>\n",
       "      <td>0</td>\n",
       "    </tr>\n",
       "    <tr>\n",
       "      <th>9</th>\n",
       "      <td>100014</td>\n",
       "      <td>257</td>\n",
       "      <td>41.244363</td>\n",
       "      <td>6</td>\n",
       "      <td>6</td>\n",
       "      <td>7</td>\n",
       "      <td>1</td>\n",
       "    </tr>\n",
       "    <tr>\n",
       "      <th>10</th>\n",
       "      <td>132</td>\n",
       "      <td>1928</td>\n",
       "      <td>50.497407</td>\n",
       "      <td>41</td>\n",
       "      <td>16</td>\n",
       "      <td>38</td>\n",
       "      <td>0</td>\n",
       "    </tr>\n",
       "    <tr>\n",
       "      <th>11</th>\n",
       "      <td>154</td>\n",
       "      <td>84</td>\n",
       "      <td>24.986458</td>\n",
       "      <td>3</td>\n",
       "      <td>3</td>\n",
       "      <td>1</td>\n",
       "      <td>0</td>\n",
       "    </tr>\n",
       "    <tr>\n",
       "      <th>12</th>\n",
       "      <td>101</td>\n",
       "      <td>1797</td>\n",
       "      <td>15.861481</td>\n",
       "      <td>29</td>\n",
       "      <td>10</td>\n",
       "      <td>61</td>\n",
       "      <td>1</td>\n",
       "    </tr>\n",
       "    <tr>\n",
       "      <th>13</th>\n",
       "      <td>11</td>\n",
       "      <td>647</td>\n",
       "      <td>53.241586</td>\n",
       "      <td>6</td>\n",
       "      <td>16</td>\n",
       "      <td>20</td>\n",
       "      <td>0</td>\n",
       "    </tr>\n",
       "    <tr>\n",
       "      <th>14</th>\n",
       "      <td>138</td>\n",
       "      <td>2070</td>\n",
       "      <td>56.076748</td>\n",
       "      <td>41</td>\n",
       "      <td>15</td>\n",
       "      <td>67</td>\n",
       "      <td>0</td>\n",
       "    </tr>\n",
       "    <tr>\n",
       "      <th>15</th>\n",
       "      <td>300017</td>\n",
       "      <td>3632</td>\n",
       "      <td>59.113900</td>\n",
       "      <td>63</td>\n",
       "      <td>63</td>\n",
       "      <td>113</td>\n",
       "      <td>0</td>\n",
       "    </tr>\n",
       "    <tr>\n",
       "      <th>16</th>\n",
       "      <td>100021</td>\n",
       "      <td>230</td>\n",
       "      <td>45.457257</td>\n",
       "      <td>7</td>\n",
       "      <td>5</td>\n",
       "      <td>7</td>\n",
       "      <td>1</td>\n",
       "    </tr>\n",
       "    <tr>\n",
       "      <th>17</th>\n",
       "      <td>29</td>\n",
       "      <td>3028</td>\n",
       "      <td>43.320926</td>\n",
       "      <td>47</td>\n",
       "      <td>34</td>\n",
       "      <td>89</td>\n",
       "      <td>1</td>\n",
       "    </tr>\n",
       "    <tr>\n",
       "      <th>18</th>\n",
       "      <td>69</td>\n",
       "      <td>1125</td>\n",
       "      <td>50.986481</td>\n",
       "      <td>12</td>\n",
       "      <td>9</td>\n",
       "      <td>33</td>\n",
       "      <td>0</td>\n",
       "    </tr>\n",
       "    <tr>\n",
       "      <th>19</th>\n",
       "      <td>112</td>\n",
       "      <td>215</td>\n",
       "      <td>56.878692</td>\n",
       "      <td>7</td>\n",
       "      <td>10</td>\n",
       "      <td>7</td>\n",
       "      <td>0</td>\n",
       "    </tr>\n",
       "    <tr>\n",
       "      <th>20</th>\n",
       "      <td>42</td>\n",
       "      <td>3573</td>\n",
       "      <td>60.088252</td>\n",
       "      <td>52</td>\n",
       "      <td>47</td>\n",
       "      <td>104</td>\n",
       "      <td>0</td>\n",
       "    </tr>\n",
       "    <tr>\n",
       "      <th>21</th>\n",
       "      <td>73</td>\n",
       "      <td>377</td>\n",
       "      <td>21.529549</td>\n",
       "      <td>11</td>\n",
       "      <td>6</td>\n",
       "      <td>11</td>\n",
       "      <td>1</td>\n",
       "    </tr>\n",
       "    <tr>\n",
       "      <th>22</th>\n",
       "      <td>87</td>\n",
       "      <td>767</td>\n",
       "      <td>19.376400</td>\n",
       "      <td>27</td>\n",
       "      <td>25</td>\n",
       "      <td>19</td>\n",
       "      <td>1</td>\n",
       "    </tr>\n",
       "    <tr>\n",
       "      <th>23</th>\n",
       "      <td>200010</td>\n",
       "      <td>237</td>\n",
       "      <td>29.280683</td>\n",
       "      <td>8</td>\n",
       "      <td>6</td>\n",
       "      <td>5</td>\n",
       "      <td>0</td>\n",
       "    </tr>\n",
       "    <tr>\n",
       "      <th>24</th>\n",
       "      <td>64</td>\n",
       "      <td>46</td>\n",
       "      <td>23.300081</td>\n",
       "      <td>5</td>\n",
       "      <td>3</td>\n",
       "      <td>1</td>\n",
       "      <td>0</td>\n",
       "    </tr>\n",
       "    <tr>\n",
       "      <th>25</th>\n",
       "      <td>3</td>\n",
       "      <td>214</td>\n",
       "      <td>27.118160</td>\n",
       "      <td>1</td>\n",
       "      <td>4</td>\n",
       "      <td>4</td>\n",
       "      <td>1</td>\n",
       "    </tr>\n",
       "    <tr>\n",
       "      <th>26</th>\n",
       "      <td>113</td>\n",
       "      <td>1585</td>\n",
       "      <td>59.961806</td>\n",
       "      <td>32</td>\n",
       "      <td>24</td>\n",
       "      <td>50</td>\n",
       "      <td>0</td>\n",
       "    </tr>\n",
       "    <tr>\n",
       "      <th>27</th>\n",
       "      <td>30</td>\n",
       "      <td>1417</td>\n",
       "      <td>60.997720</td>\n",
       "      <td>25</td>\n",
       "      <td>32</td>\n",
       "      <td>47</td>\n",
       "      <td>0</td>\n",
       "    </tr>\n",
       "    <tr>\n",
       "      <th>28</th>\n",
       "      <td>34</td>\n",
       "      <td>53</td>\n",
       "      <td>41.584410</td>\n",
       "      <td>0</td>\n",
       "      <td>3</td>\n",
       "      <td>4</td>\n",
       "      <td>0</td>\n",
       "    </tr>\n",
       "    <tr>\n",
       "      <th>29</th>\n",
       "      <td>133</td>\n",
       "      <td>32</td>\n",
       "      <td>0.120741</td>\n",
       "      <td>1</td>\n",
       "      <td>1</td>\n",
       "      <td>3</td>\n",
       "      <td>0</td>\n",
       "    </tr>\n",
       "    <tr>\n",
       "      <th>...</th>\n",
       "      <td>...</td>\n",
       "      <td>...</td>\n",
       "      <td>...</td>\n",
       "      <td>...</td>\n",
       "      <td>...</td>\n",
       "      <td>...</td>\n",
       "      <td>...</td>\n",
       "    </tr>\n",
       "    <tr>\n",
       "      <th>195</th>\n",
       "      <td>83</td>\n",
       "      <td>1235</td>\n",
       "      <td>55.673530</td>\n",
       "      <td>18</td>\n",
       "      <td>28</td>\n",
       "      <td>28</td>\n",
       "      <td>0</td>\n",
       "    </tr>\n",
       "    <tr>\n",
       "      <th>196</th>\n",
       "      <td>109</td>\n",
       "      <td>717</td>\n",
       "      <td>40.315961</td>\n",
       "      <td>12</td>\n",
       "      <td>12</td>\n",
       "      <td>16</td>\n",
       "      <td>0</td>\n",
       "    </tr>\n",
       "    <tr>\n",
       "      <th>197</th>\n",
       "      <td>123</td>\n",
       "      <td>150</td>\n",
       "      <td>28.345613</td>\n",
       "      <td>5</td>\n",
       "      <td>8</td>\n",
       "      <td>8</td>\n",
       "      <td>0</td>\n",
       "    </tr>\n",
       "    <tr>\n",
       "      <th>198</th>\n",
       "      <td>200022</td>\n",
       "      <td>348</td>\n",
       "      <td>34.901968</td>\n",
       "      <td>6</td>\n",
       "      <td>8</td>\n",
       "      <td>5</td>\n",
       "      <td>0</td>\n",
       "    </tr>\n",
       "    <tr>\n",
       "      <th>199</th>\n",
       "      <td>13</td>\n",
       "      <td>1280</td>\n",
       "      <td>59.497917</td>\n",
       "      <td>32</td>\n",
       "      <td>33</td>\n",
       "      <td>37</td>\n",
       "      <td>0</td>\n",
       "    </tr>\n",
       "    <tr>\n",
       "      <th>200</th>\n",
       "      <td>200019</td>\n",
       "      <td>495</td>\n",
       "      <td>47.507118</td>\n",
       "      <td>8</td>\n",
       "      <td>10</td>\n",
       "      <td>18</td>\n",
       "      <td>0</td>\n",
       "    </tr>\n",
       "    <tr>\n",
       "      <th>201</th>\n",
       "      <td>14</td>\n",
       "      <td>1230</td>\n",
       "      <td>49.717558</td>\n",
       "      <td>19</td>\n",
       "      <td>11</td>\n",
       "      <td>34</td>\n",
       "      <td>0</td>\n",
       "    </tr>\n",
       "    <tr>\n",
       "      <th>202</th>\n",
       "      <td>21</td>\n",
       "      <td>499</td>\n",
       "      <td>33.665405</td>\n",
       "      <td>8</td>\n",
       "      <td>4</td>\n",
       "      <td>9</td>\n",
       "      <td>0</td>\n",
       "    </tr>\n",
       "    <tr>\n",
       "      <th>203</th>\n",
       "      <td>66</td>\n",
       "      <td>1045</td>\n",
       "      <td>55.626354</td>\n",
       "      <td>24</td>\n",
       "      <td>21</td>\n",
       "      <td>38</td>\n",
       "      <td>0</td>\n",
       "    </tr>\n",
       "    <tr>\n",
       "      <th>204</th>\n",
       "      <td>91</td>\n",
       "      <td>2580</td>\n",
       "      <td>54.379630</td>\n",
       "      <td>42</td>\n",
       "      <td>9</td>\n",
       "      <td>64</td>\n",
       "      <td>0</td>\n",
       "    </tr>\n",
       "    <tr>\n",
       "      <th>205</th>\n",
       "      <td>94</td>\n",
       "      <td>146</td>\n",
       "      <td>50.561690</td>\n",
       "      <td>1</td>\n",
       "      <td>6</td>\n",
       "      <td>3</td>\n",
       "      <td>0</td>\n",
       "    </tr>\n",
       "    <tr>\n",
       "      <th>206</th>\n",
       "      <td>137</td>\n",
       "      <td>154</td>\n",
       "      <td>54.318079</td>\n",
       "      <td>8</td>\n",
       "      <td>3</td>\n",
       "      <td>4</td>\n",
       "      <td>0</td>\n",
       "    </tr>\n",
       "    <tr>\n",
       "      <th>207</th>\n",
       "      <td>72</td>\n",
       "      <td>85</td>\n",
       "      <td>0.232164</td>\n",
       "      <td>3</td>\n",
       "      <td>1</td>\n",
       "      <td>3</td>\n",
       "      <td>0</td>\n",
       "    </tr>\n",
       "    <tr>\n",
       "      <th>208</th>\n",
       "      <td>74</td>\n",
       "      <td>2400</td>\n",
       "      <td>59.783079</td>\n",
       "      <td>43</td>\n",
       "      <td>23</td>\n",
       "      <td>80</td>\n",
       "      <td>0</td>\n",
       "    </tr>\n",
       "    <tr>\n",
       "      <th>209</th>\n",
       "      <td>300016</td>\n",
       "      <td>583</td>\n",
       "      <td>52.078148</td>\n",
       "      <td>11</td>\n",
       "      <td>13</td>\n",
       "      <td>26</td>\n",
       "      <td>0</td>\n",
       "    </tr>\n",
       "    <tr>\n",
       "      <th>210</th>\n",
       "      <td>151</td>\n",
       "      <td>138</td>\n",
       "      <td>0.379178</td>\n",
       "      <td>3</td>\n",
       "      <td>1</td>\n",
       "      <td>2</td>\n",
       "      <td>0</td>\n",
       "    </tr>\n",
       "    <tr>\n",
       "      <th>211</th>\n",
       "      <td>200015</td>\n",
       "      <td>258</td>\n",
       "      <td>37.001794</td>\n",
       "      <td>2</td>\n",
       "      <td>11</td>\n",
       "      <td>13</td>\n",
       "      <td>1</td>\n",
       "    </tr>\n",
       "    <tr>\n",
       "      <th>212</th>\n",
       "      <td>129</td>\n",
       "      <td>331</td>\n",
       "      <td>14.450845</td>\n",
       "      <td>11</td>\n",
       "      <td>7</td>\n",
       "      <td>11</td>\n",
       "      <td>1</td>\n",
       "    </tr>\n",
       "    <tr>\n",
       "      <th>213</th>\n",
       "      <td>76</td>\n",
       "      <td>212</td>\n",
       "      <td>46.057836</td>\n",
       "      <td>3</td>\n",
       "      <td>6</td>\n",
       "      <td>4</td>\n",
       "      <td>0</td>\n",
       "    </tr>\n",
       "    <tr>\n",
       "      <th>214</th>\n",
       "      <td>2</td>\n",
       "      <td>755</td>\n",
       "      <td>44.736215</td>\n",
       "      <td>20</td>\n",
       "      <td>7</td>\n",
       "      <td>13</td>\n",
       "      <td>0</td>\n",
       "    </tr>\n",
       "    <tr>\n",
       "      <th>215</th>\n",
       "      <td>100002</td>\n",
       "      <td>195</td>\n",
       "      <td>55.092951</td>\n",
       "      <td>1</td>\n",
       "      <td>4</td>\n",
       "      <td>5</td>\n",
       "      <td>0</td>\n",
       "    </tr>\n",
       "    <tr>\n",
       "      <th>216</th>\n",
       "      <td>100018</td>\n",
       "      <td>1002</td>\n",
       "      <td>53.642731</td>\n",
       "      <td>23</td>\n",
       "      <td>21</td>\n",
       "      <td>31</td>\n",
       "      <td>0</td>\n",
       "    </tr>\n",
       "    <tr>\n",
       "      <th>217</th>\n",
       "      <td>80</td>\n",
       "      <td>367</td>\n",
       "      <td>56.680694</td>\n",
       "      <td>9</td>\n",
       "      <td>12</td>\n",
       "      <td>13</td>\n",
       "      <td>0</td>\n",
       "    </tr>\n",
       "    <tr>\n",
       "      <th>218</th>\n",
       "      <td>145</td>\n",
       "      <td>1129</td>\n",
       "      <td>57.170255</td>\n",
       "      <td>34</td>\n",
       "      <td>15</td>\n",
       "      <td>27</td>\n",
       "      <td>0</td>\n",
       "    </tr>\n",
       "    <tr>\n",
       "      <th>219</th>\n",
       "      <td>50</td>\n",
       "      <td>503</td>\n",
       "      <td>57.338611</td>\n",
       "      <td>9</td>\n",
       "      <td>8</td>\n",
       "      <td>12</td>\n",
       "      <td>0</td>\n",
       "    </tr>\n",
       "    <tr>\n",
       "      <th>220</th>\n",
       "      <td>45</td>\n",
       "      <td>1484</td>\n",
       "      <td>58.226667</td>\n",
       "      <td>22</td>\n",
       "      <td>16</td>\n",
       "      <td>43</td>\n",
       "      <td>0</td>\n",
       "    </tr>\n",
       "    <tr>\n",
       "      <th>221</th>\n",
       "      <td>57</td>\n",
       "      <td>92</td>\n",
       "      <td>33.933646</td>\n",
       "      <td>0</td>\n",
       "      <td>2</td>\n",
       "      <td>0</td>\n",
       "      <td>0</td>\n",
       "    </tr>\n",
       "    <tr>\n",
       "      <th>222</th>\n",
       "      <td>200021</td>\n",
       "      <td>1227</td>\n",
       "      <td>29.541366</td>\n",
       "      <td>19</td>\n",
       "      <td>17</td>\n",
       "      <td>30</td>\n",
       "      <td>1</td>\n",
       "    </tr>\n",
       "    <tr>\n",
       "      <th>223</th>\n",
       "      <td>119</td>\n",
       "      <td>173</td>\n",
       "      <td>47.516319</td>\n",
       "      <td>4</td>\n",
       "      <td>6</td>\n",
       "      <td>5</td>\n",
       "      <td>0</td>\n",
       "    </tr>\n",
       "    <tr>\n",
       "      <th>224</th>\n",
       "      <td>100001</td>\n",
       "      <td>133</td>\n",
       "      <td>1.408576</td>\n",
       "      <td>2</td>\n",
       "      <td>4</td>\n",
       "      <td>3</td>\n",
       "      <td>1</td>\n",
       "    </tr>\n",
       "  </tbody>\n",
       "</table>\n",
       "<p>225 rows × 7 columns</p>\n",
       "</div>"
      ],
      "text/plain": [
       "     userId  songcount  days_active  friendcount  numsessions  addtoplaylist  \\\n",
       "0    100010        275    44.217801            4            7              7   \n",
       "1    200002        387    45.496806            4            6              8   \n",
       "2       125          8     0.020532            0            1              0   \n",
       "3       124       4079    59.996944           74           29            118   \n",
       "4        51       2111    15.779398           28           10             52   \n",
       "5         7        150    50.784051            1            7              5   \n",
       "6        15       1914    54.773183           31           15             59   \n",
       "7        54       2841    42.797199           33           37             72   \n",
       "8       155        820    25.827836           11            6             24   \n",
       "9    100014        257    41.244363            6            6              7   \n",
       "10      132       1928    50.497407           41           16             38   \n",
       "11      154         84    24.986458            3            3              1   \n",
       "12      101       1797    15.861481           29           10             61   \n",
       "13       11        647    53.241586            6           16             20   \n",
       "14      138       2070    56.076748           41           15             67   \n",
       "15   300017       3632    59.113900           63           63            113   \n",
       "16   100021        230    45.457257            7            5              7   \n",
       "17       29       3028    43.320926           47           34             89   \n",
       "18       69       1125    50.986481           12            9             33   \n",
       "19      112        215    56.878692            7           10              7   \n",
       "20       42       3573    60.088252           52           47            104   \n",
       "21       73        377    21.529549           11            6             11   \n",
       "22       87        767    19.376400           27           25             19   \n",
       "23   200010        237    29.280683            8            6              5   \n",
       "24       64         46    23.300081            5            3              1   \n",
       "25        3        214    27.118160            1            4              4   \n",
       "26      113       1585    59.961806           32           24             50   \n",
       "27       30       1417    60.997720           25           32             47   \n",
       "28       34         53    41.584410            0            3              4   \n",
       "29      133         32     0.120741            1            1              3   \n",
       "..      ...        ...          ...          ...          ...            ...   \n",
       "195      83       1235    55.673530           18           28             28   \n",
       "196     109        717    40.315961           12           12             16   \n",
       "197     123        150    28.345613            5            8              8   \n",
       "198  200022        348    34.901968            6            8              5   \n",
       "199      13       1280    59.497917           32           33             37   \n",
       "200  200019        495    47.507118            8           10             18   \n",
       "201      14       1230    49.717558           19           11             34   \n",
       "202      21        499    33.665405            8            4              9   \n",
       "203      66       1045    55.626354           24           21             38   \n",
       "204      91       2580    54.379630           42            9             64   \n",
       "205      94        146    50.561690            1            6              3   \n",
       "206     137        154    54.318079            8            3              4   \n",
       "207      72         85     0.232164            3            1              3   \n",
       "208      74       2400    59.783079           43           23             80   \n",
       "209  300016        583    52.078148           11           13             26   \n",
       "210     151        138     0.379178            3            1              2   \n",
       "211  200015        258    37.001794            2           11             13   \n",
       "212     129        331    14.450845           11            7             11   \n",
       "213      76        212    46.057836            3            6              4   \n",
       "214       2        755    44.736215           20            7             13   \n",
       "215  100002        195    55.092951            1            4              5   \n",
       "216  100018       1002    53.642731           23           21             31   \n",
       "217      80        367    56.680694            9           12             13   \n",
       "218     145       1129    57.170255           34           15             27   \n",
       "219      50        503    57.338611            9            8             12   \n",
       "220      45       1484    58.226667           22           16             43   \n",
       "221      57         92    33.933646            0            2              0   \n",
       "222  200021       1227    29.541366           19           17             30   \n",
       "223     119        173    47.516319            4            6              5   \n",
       "224  100001        133     1.408576            2            4              3   \n",
       "\n",
       "     label  \n",
       "0        0  \n",
       "1        0  \n",
       "2        1  \n",
       "3        0  \n",
       "4        1  \n",
       "5        0  \n",
       "6        0  \n",
       "7        1  \n",
       "8        0  \n",
       "9        1  \n",
       "10       0  \n",
       "11       0  \n",
       "12       1  \n",
       "13       0  \n",
       "14       0  \n",
       "15       0  \n",
       "16       1  \n",
       "17       1  \n",
       "18       0  \n",
       "19       0  \n",
       "20       0  \n",
       "21       1  \n",
       "22       1  \n",
       "23       0  \n",
       "24       0  \n",
       "25       1  \n",
       "26       0  \n",
       "27       0  \n",
       "28       0  \n",
       "29       0  \n",
       "..     ...  \n",
       "195      0  \n",
       "196      0  \n",
       "197      0  \n",
       "198      0  \n",
       "199      0  \n",
       "200      0  \n",
       "201      0  \n",
       "202      0  \n",
       "203      0  \n",
       "204      0  \n",
       "205      0  \n",
       "206      0  \n",
       "207      0  \n",
       "208      0  \n",
       "209      0  \n",
       "210      0  \n",
       "211      1  \n",
       "212      1  \n",
       "213      0  \n",
       "214      0  \n",
       "215      0  \n",
       "216      0  \n",
       "217      0  \n",
       "218      0  \n",
       "219      0  \n",
       "220      0  \n",
       "221      0  \n",
       "222      1  \n",
       "223      0  \n",
       "224      1  \n",
       "\n",
       "[225 rows x 7 columns]"
      ]
     },
     "execution_count": 49,
     "metadata": {},
     "output_type": "execute_result"
    }
   ],
   "source": [
    "modelfile.toPandas()"
   ]
  },
  {
   "cell_type": "markdown",
   "metadata": {},
   "source": [
    "## Baseline Model"
   ]
  },
  {
   "cell_type": "code",
   "execution_count": 21,
   "metadata": {},
   "outputs": [],
   "source": [
    "# Preparing featuers data without the userid and predictor variable\n",
    "features = modelfile.drop('label','userId').schema.names\n",
    "\n",
    "# Transform multiple columns into one column called Features\n",
    "vector_assembler = VectorAssembler(inputCols=features,outputCol = 'Features')\n",
    "\n",
    "# transform the input data set with the features \n",
    "modelinput = vector_assembler.transform(modelfile)\n",
    "\n",
    "# Scale and normalize the features \n",
    "Scaler1 = StandardScaler(withMean=True,withStd=True,inputCol='Features',outputCol='ScaledFeatures')\n",
    "FeatureScaler1Fit = Scaler1.fit(modelinput)\n",
    "ScaledInput1 = FeatureScaler1Fit.transform(modelinput)\n",
    "\n",
    "# Renaming the variables so the model methods recognize the code\n",
    "modeldata = ScaledInput1.select(ScaledInput1.label.alias('label'),ScaledInput1.ScaledFeatures.alias('features'))\n",
    "\n",
    "# spliting the data into training and testing data sets\n",
    "train, test = modeldata.randomSplit([0.75,0.25])"
   ]
  },
  {
   "cell_type": "code",
   "execution_count": 22,
   "metadata": {},
   "outputs": [],
   "source": [
    "# Base Logit - initialize the logistic regression with maxium of 10 iterations\n",
    "lr = LogisticRegression(maxIter=10)\n",
    "\n",
    "# define the evalutator with metric\n",
    "f1_evaluator=MulticlassClassificationEvaluator(metricName='f1')\n",
    "\n",
    "# no parametres passed on the grid builder \n",
    "paramGrid = ParamGridBuilder().build()\n",
    "\n",
    "# execute the base model with 3-fold cross validation\n",
    "crossvalidation_baselr = CrossValidator(estimator=lr,\n",
    "                                        evaluator=f1_evaluator,\n",
    "                                        estimatorParamMaps=paramGrid,\n",
    "                                        numFolds=3)"
   ]
  },
  {
   "cell_type": "code",
   "execution_count": 23,
   "metadata": {},
   "outputs": [
    {
     "name": "stdout",
     "output_type": "stream",
     "text": [
      "Accuracy:0.76\n",
      "F1 Score:0.76\n"
     ]
    }
   ],
   "source": [
    "# train the model\n",
    "baselr = crossvalidation_baselr.fit(train)\n",
    "\n",
    "# apply the model to test data set\n",
    "baselrtest = baselr.transform(test)\n",
    "\n",
    "# initialize the evaluator to get the accuracy and F1-score\n",
    "evaluator=MulticlassClassificationEvaluator(predictionCol='prediction')\n",
    "\n",
    "# print the scores\n",
    "print('Accuracy:{}'.format(evaluator.evaluate(baselrtest,{evaluator.metricName: \"accuracy\"})))\n",
    "print('F1 Score:{}'.format(evaluator.evaluate(baselrtest,{evaluator.metricName: \"f1\"})))"
   ]
  },
  {
   "cell_type": "code",
   "execution_count": 28,
   "metadata": {},
   "outputs": [
    {
     "data": {
      "text/plain": [
       "LogisticRegressionModel: uid = LogisticRegression_806c81d1262e, numClasses = 2, numFeatures = 5"
      ]
     },
     "execution_count": 28,
     "metadata": {},
     "output_type": "execute_result"
    }
   ],
   "source": [
    "baselr.bestModel"
   ]
  },
  {
   "cell_type": "code",
   "execution_count": 24,
   "metadata": {},
   "outputs": [],
   "source": [
    "# decision tree classifier\n",
    "dtc = DecisionTreeClassifier()\n",
    "\n",
    "# initialize the evalutor \n",
    "f1_evaluator=MulticlassClassificationEvaluator(metricName='f1')\n",
    "\n",
    "# no parameters passed\n",
    "dtc_parameterGrid = ParamGridBuilder().build()\n",
    "\n",
    "# base decision tree model wiht 3-fold cross validation\n",
    "dtc_crossval = CrossValidator(estimator = dtc, estimatorParamMaps=dtc_parameterGrid, \n",
    "                             evaluator=f1_evaluator,\n",
    "                             numFolds=3)"
   ]
  },
  {
   "cell_type": "code",
   "execution_count": 25,
   "metadata": {},
   "outputs": [
    {
     "name": "stdout",
     "output_type": "stream",
     "text": [
      "Accuracy:0.82\n",
      "F1 Score:0.7905315379163714\n"
     ]
    }
   ],
   "source": [
    "# train the model\n",
    "basedtc = dtc_crossval.fit(train)\n",
    "\n",
    "# apply the model to test data set\n",
    "basedtctest = basedtc.transform(test)\n",
    "\n",
    "# initialize the evaluator for accuracy and F1 metric\n",
    "evaluator=MulticlassClassificationEvaluator(predictionCol='prediction')\n",
    "\n",
    "# print the scores \n",
    "print('Accuracy:{}'.format(evaluator.evaluate(basedtctest,{evaluator.metricName: \"accuracy\"})))\n",
    "print('F1 Score:{}'.format(evaluator.evaluate(basedtctest,{evaluator.metricName: \"f1\"})))"
   ]
  },
  {
   "cell_type": "markdown",
   "metadata": {},
   "source": [
    "### Summary\n",
    "\n",
    "The base models yield the following information:\n",
    "\n",
    "For logistic regression, the accuracy is 0.76 and f1 score is 0.76\n",
    "For decision tree classifier, the accuracy is 0.82 and f1 score is 0.79\n",
    "\n",
    "This could be result of model over fitting as base models with very high accuracy need to be reviewed.\n",
    "\n",
    "In the following section, I employ hyper parameter tuning and run the models again"
   ]
  },
  {
   "cell_type": "code",
   "execution_count": 29,
   "metadata": {},
   "outputs": [],
   "source": [
    "# Logistic Regression\n",
    "lr = LogisticRegression(maxIter=10)\n",
    "pipeline_lr = Pipeline(stages=[lr])\n",
    "f1_evaluator=MulticlassClassificationEvaluator(metricName='f1')\n",
    "\n",
    "# create parameter grids\n",
    "lr_parameterGrid = (ParamGridBuilder().addGrid(lr.regParam,[0.0,0.1]).build())\n",
    "\n",
    "# cross validation 3-step\n",
    "lr_crossval = CrossValidator(estimator=pipeline_lr, \n",
    "                            estimatorParamMaps=lr_parameterGrid,\n",
    "                            evaluator=f1_evaluator,\n",
    "                            numFolds=3)"
   ]
  },
  {
   "cell_type": "code",
   "execution_count": 17,
   "metadata": {},
   "outputs": [],
   "source": [
    "## Modeling Methodology\n",
    "# splitting the data into training test and testing set \n",
    "#train, test = modelfile.randomSplit([0.8,0.2])\n",
    "\n",
    "# vectorize the features by dropping the variables not needed for prediction - outcome variable and userID as well\n",
    "#features = train.drop('label','userId').schema.names\n",
    "#vector_assembler = VectorAssembler(inputCols=features,outputCol = 'Features')\n",
    "\n",
    "# we are scaling the features to overcome any variable that has a larger scale overpowering the model\n",
    "#scale = MinMaxScaler(inputCol='Features',outputCol='Scaler')"
   ]
  },
  {
   "cell_type": "code",
   "execution_count": 30,
   "metadata": {},
   "outputs": [],
   "source": [
    "# decision tree classifier\n",
    "dtc = DecisionTreeClassifier()\n",
    "pipeline_dtc = Pipeline(stages=[dtc])\n",
    "\n",
    "# creating parameter grids\n",
    "dtc_parameterGrid = ParamGridBuilder().addGrid(dtc.maxDepth,[1,2]).build()\n",
    "\n",
    "# cross validation 3-step\n",
    "dtc_crossval = CrossValidator(estimator = pipeline_dtc, \n",
    "                              estimatorParamMaps=dtc_parameterGrid, \n",
    "                             evaluator=f1_evaluator,\n",
    "                             numFolds=3)"
   ]
  },
  {
   "cell_type": "code",
   "execution_count": 18,
   "metadata": {},
   "outputs": [],
   "source": [
    "# Logistic Regression\n",
    "\n",
    "#lr = LogisticRegression(maxIter=10,featuresCol='Scaler',labelCol='label')\n",
    "#pipeline_lr = Pipeline(stages=[vector_assembler, scale, lr])\n",
    "\n",
    "# create parameter grids\n",
    "#lr_parameterGrid = (ParamGridBuilder().addGrid(lr.regParam,[0.0,0.1]).build())\n",
    "\n",
    "# cross validation 3-step\n",
    "#lr_crossval = CrossValidator(estimator=pipeline_lr, estimatorParamMaps=lr_parameterGrid, evaluator=MulticlassClassificationEvaluator(),\n",
    "# numFolds=2)"
   ]
  },
  {
   "cell_type": "code",
   "execution_count": 18,
   "metadata": {},
   "outputs": [],
   "source": [
    "# Logistic Regression\n",
    "\n",
    "#lr = LogisticRegression(featuresCol='Scaler',labelCol='label')\n",
    "#pipeline_lr = Pipeline(stages=[vector_assembler, scale, lr])\n",
    "\n",
    "# create parameter grids\n",
    "#lr_parameterGrid = (ParamGridBuilder().addGrid(lr.regParam,[0.0,0.1]).build())\n",
    "\n",
    "# cross validation 3-step\n",
    "#lr_crossval = CrossValidator(estimator=pipeline_lr, \n",
    "#                            estimatorParamMaps=lr_parameterGrid,\n",
    "#                            evaluator=MulticlassClassificationEvaluator(),\n",
    "#                            numFolds=3)"
   ]
  },
  {
   "cell_type": "code",
   "execution_count": 38,
   "metadata": {},
   "outputs": [],
   "source": [
    "# decision tree classifier\n",
    "\n",
    "#dtc = DecisionTreeClassifier(featuresCol='Scaler', labelCol='label')\n",
    "#pipeline_dtc = Pipeline(stages=[vector_assembler, scale, dtc])\n",
    "\n",
    "# creating parameter grids\n",
    "#dtc_parameterGrid = ParamGridBuilder().addGrid(dtc.maxDepth,[1,2]).build()\n",
    "\n",
    "# cross validation 3-step\n",
    "#dtc_crossval = CrossValidator(estimator = pipeline_dtc, estimatorParamMaps=dtc_parameterGrid, \n",
    "#                             evaluator=MulticlassClassificationEvaluator(),\n",
    "#                             numFolds=3)"
   ]
  },
  {
   "cell_type": "markdown",
   "metadata": {},
   "source": [
    "## Model Evaluation\n",
    "\n",
    "Keeping our machine learning analysis modest, we are running logistic regression and decision tree classifier on our sparkify subscribers data set\n",
    "\n",
    "Model coefficients for logistic regression and number of trees for decision trees"
   ]
  },
  {
   "cell_type": "code",
   "execution_count": 31,
   "metadata": {},
   "outputs": [],
   "source": []
  },
  {
   "cell_type": "code",
   "execution_count": 35,
   "metadata": {},
   "outputs": [],
   "source": [
    "# Py4jError troubleshooting - do not use if the model trains successfully\n",
    "spark.sparkContext.setCheckpointDir('checkpoint')\n",
    "train.checkpoint()\n",
    "#train.explain(extended=True)\n",
    "train = spark.createDataFrame(train.rdd, schema=train.schema)"
   ]
  },
  {
   "cell_type": "code",
   "execution_count": 39,
   "metadata": {},
   "outputs": [],
   "source": [
    "dtc_train = pipeline_dtc.fit(train)"
   ]
  },
  {
   "cell_type": "code",
   "execution_count": 32,
   "metadata": {},
   "outputs": [],
   "source": [
    "# train the model\n",
    "trained_lr = lr_crossval.fit(train)"
   ]
  },
  {
   "cell_type": "code",
   "execution_count": 37,
   "metadata": {
    "scrolled": true
   },
   "outputs": [
    {
     "data": {
      "text/plain": [
       "LogisticRegressionModel: uid = LogisticRegression_7fccd5df6d7c, numClasses = 2, numFeatures = 5"
      ]
     },
     "execution_count": 37,
     "metadata": {},
     "output_type": "execute_result"
    }
   ],
   "source": [
    "# get the hyperpar\n",
    "bestModellr = trained_lr.bestModel\n",
    "#print(bestModellr.getRegParam())\n",
    "#print(bestModellr.getMaxIter())\n",
    "bestModellr.stages[-1]\n",
    "#bestModellr._java_obj.getRegParam()"
   ]
  },
  {
   "cell_type": "code",
   "execution_count": 33,
   "metadata": {},
   "outputs": [],
   "source": [
    "#bestModeldtc = dtc_train.bestModel\n",
    "dtc_train1 = dtc_crossval.fit(train)"
   ]
  },
  {
   "cell_type": "code",
   "execution_count": 39,
   "metadata": {},
   "outputs": [
    {
     "data": {
      "text/plain": [
       "DecisionTreeClassificationModel (uid=DecisionTreeClassifier_c2f0dd23b42e) of depth 2 with 5 nodes"
      ]
     },
     "execution_count": 39,
     "metadata": {},
     "output_type": "execute_result"
    }
   ],
   "source": [
    "dtc_train1.bestModel.stages[-1]"
   ]
  },
  {
   "cell_type": "markdown",
   "metadata": {},
   "source": [
    "## Model Validation and Metrics Evaluation\n",
    "\n",
    "We will be looking at accuracy metric and f1-score for both these algorithms to evaluate their effectiveness."
   ]
  },
  {
   "cell_type": "code",
   "execution_count": 35,
   "metadata": {},
   "outputs": [
    {
     "name": "stdout",
     "output_type": "stream",
     "text": [
      "0.76\n",
      "Accuracy: 0.76\n",
      "f1 score: 0.76\n"
     ]
    }
   ],
   "source": [
    "# validation logistic regresssion\n",
    "\n",
    "logisticregression = trained_lr.transform(test)\n",
    "lr_score = evaluator.evaluate(logisticregression)\n",
    "print(lr_score)\n",
    "print('Accuracy: {}'.format(evaluator.evaluate(logisticregression, {evaluator.metricName: 'accuracy'})))\n",
    "print('f1 score: {}'.format(evaluator.evaluate(logisticregression, {evaluator.metricName: 'f1'})))"
   ]
  },
  {
   "cell_type": "code",
   "execution_count": 36,
   "metadata": {},
   "outputs": [
    {
     "name": "stdout",
     "output_type": "stream",
     "text": [
      "0.7595238095238095\n",
      "Accuracy: 0.8\n",
      "f1 score: 0.7595238095238095\n"
     ]
    }
   ],
   "source": [
    "# validation decision tree classifier\n",
    "\n",
    "decisiontree = dtc_train1.transform(test)\n",
    "dtc_score = evaluator.evaluate(decisiontree)\n",
    "print(dtc_score)\n",
    "print('Accuracy: {}'.format(evaluator.evaluate(decisiontree, {evaluator.metricName: 'accuracy'})))\n",
    "print('f1 score: {}'.format(evaluator.evaluate(decisiontree, {evaluator.metricName: 'f1'})))"
   ]
  },
  {
   "cell_type": "code",
   "execution_count": 47,
   "metadata": {},
   "outputs": [
    {
     "data": {
      "text/html": [
       "\n",
       "            <div>\n",
       "                <p><b>SparkSession - in-memory</b></p>\n",
       "                \n",
       "        <div>\n",
       "            <p><b>SparkContext</b></p>\n",
       "\n",
       "            <p><a href=\"http://3881e57ec5b0:4040\">Spark UI</a></p>\n",
       "\n",
       "            <dl>\n",
       "              <dt>Version</dt>\n",
       "                <dd><code>v2.4.3</code></dd>\n",
       "              <dt>Master</dt>\n",
       "                <dd><code>local[*]</code></dd>\n",
       "              <dt>AppName</dt>\n",
       "                <dd><code>CapstoneProject</code></dd>\n",
       "            </dl>\n",
       "        </div>\n",
       "        \n",
       "            </div>\n",
       "        "
      ],
      "text/plain": [
       "<pyspark.sql.session.SparkSession at 0x7f1edfa81668>"
      ]
     },
     "execution_count": 47,
     "metadata": {},
     "output_type": "execute_result"
    }
   ],
   "source": [
    "spark"
   ]
  },
  {
   "cell_type": "markdown",
   "metadata": {},
   "source": [
    "# Results\n",
    "\n",
    "## Modeling and Justification \n",
    "\n",
    "The logistic regression yields an accuracy score of 0.76 and f1 score of 0.76 for our churning model.\n",
    "\n",
    "The decision tree classifier yields an accuracy score of 0.8 and f1 score of 0.7595238095238095. This metric is quite impressive as having developed predictive models in my previous assignments with real world data with variations within data set that is out of control, any accuracy score above 60% is considered a good metric to me.\n",
    "\n",
    "Accuracy metric is measure of all correctly identified cases. In this case the model is 80% accurate. However the remaining percent actually contains subscribers that are going to leave our music streaming service without being identified. This can be a high cost for the organization and we should try to minimize the false negatives. This is where we use F1 Score.\n",
    "\n",
    "F1 score gives us better measure of incorrectly classifeid cases than the accuracy metric. F1 is used when false positives and false negatives are very important. Missing a customer who is about to leave the service can be a high cost and the reason why we need to look at F1 score and weigh more than accuracy.\n",
    "\n",
    "Higher F1-score is a healthy indicator of the predictive model. In this context, F1-score of 0.7595 would mean that the remaining percent would contribute to false positive and false negative circumstances where a subscriber who is leaving the service are not being found and a subscriber who is loyal to service is being marked as at risk of leaving. Both of these can have a effect on Sparkify's revenue\n",
    "\n",
    "Lack of sample size is concerning and potentially effectiveness will be more obvious if the number of users were to be in few thousands."
   ]
  },
  {
   "cell_type": "markdown",
   "metadata": {},
   "source": [
    "# Final Steps\n",
    "Clean up your code, adding comments and renaming variables to make the code easier to read and maintain. Refer to the Spark Project Overview page and Data Scientist Capstone Project Rubric to make sure you are including all components of the capstone project and meet all expectations. Remember, this includes thorough documentation in a README file in a Github repository, as well as a web app or blog post."
   ]
  },
  {
   "cell_type": "markdown",
   "metadata": {},
   "source": [
    "# Conclusion\n",
    "\n",
    "In this capstone project, I have imported log files of an app from a fictitious company, Sparkify, performed data cleaning, identified missing values and treated them, performed univariate and bivariate analysis, data vizualizations, fit a predictive model, tuned the hyper parameters to obtain a better fit and presented the results. \n",
    "\n",
    "I found the JSON documents part of it, interesting and enjoyable as I have worked with JSON documents in one of my previous projects, and found the technical setup difficult; the spark cluster, seem to have memory limitations and number of nodes running the background.\n",
    "\n",
    "\n",
    "### Reflection and Improvement\n",
    "\n",
    "As someone who has played with Apache Spark during Scala days, it was a pleasure to discover the PySpark matured into a proper package with full support for data frames and growing traction for PySpark ML library. \n",
    "\n",
    "Also, at the same time, I understand the pain points of running relatively small batch of data into a distributed system. It is going to be ridicule to use RDD for a data set that has little over 250 rows with few columns. Nevertheless, it has been a great practice for me and I remain thanking for that.\n",
    "\n",
    "The data set is somewhat cleaned and relatively less messy. The behavior of churners (subscribers) does not seem relatively trivial -- one would imagine someone spends less time on the streaming service, does not add more friends or songs to play list would likely to dropout however we have good mix of data that has subscribers who appear to be loyal to service and yet have decided to downgrade or execute the event \"cancellation confirmation\" so this was interesting.\n",
    "\n",
    "There is also the concept of system tuning or troubleshooting the resource allocation (job scheduling, memory reallocation, etc...) from the system level that would play a crucial role in duration it takes for each job to run and data to persist."
   ]
  },
  {
   "cell_type": "markdown",
   "metadata": {},
   "source": []
  }
 ],
 "metadata": {
  "kernelspec": {
   "display_name": "Python 3",
   "language": "python",
   "name": "python3"
  },
  "language_info": {
   "codemirror_mode": {
    "name": "ipython",
    "version": 3
   },
   "file_extension": ".py",
   "mimetype": "text/x-python",
   "name": "python",
   "nbconvert_exporter": "python",
   "pygments_lexer": "ipython3",
   "version": "3.6.3"
  }
 },
 "nbformat": 4,
 "nbformat_minor": 2
}
